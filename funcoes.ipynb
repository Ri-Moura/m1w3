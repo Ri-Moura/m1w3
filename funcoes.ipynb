{
 "cells": [
  {
   "cell_type": "code",
   "execution_count": 4,
   "metadata": {},
   "outputs": [
    {
     "name": "stdout",
     "output_type": "stream",
     "text": [
      "30\n"
     ]
    }
   ],
   "source": [
    "def soma(a,b):\n",
    "    return a+b\n",
    "\n",
    "c = soma(10,20)\n",
    "print(c)"
   ]
  },
  {
   "cell_type": "code",
   "execution_count": 15,
   "metadata": {},
   "outputs": [
    {
     "name": "stdout",
     "output_type": "stream",
     "text": [
      "{'numero': 6}\n",
      "Par\n"
     ]
    }
   ],
   "source": [
    "def par_impar_kwargs(**kwargs):\n",
    "    print(kwargs)\n",
    "    numero = kwargs.get('numero')\n",
    "    if numero % 2 == 0:\n",
    "        print(\"Par\")\n",
    "    else:\n",
    "        print(\"Impar\")\n",
    "\n",
    "par_impar_kwargs(numero=6)"
   ]
  },
  {
   "cell_type": "markdown",
   "metadata": {},
   "source": []
  },
  {
   "cell_type": "code",
   "execution_count": 25,
   "metadata": {},
   "outputs": [
    {
     "name": "stdout",
     "output_type": "stream",
     "text": [
      "Valor gorjeta: 17.0\n",
      "Valor gorjeta: 287.0\n"
     ]
    }
   ],
   "source": [
    "'''\n",
    "Escreva uma função que, dado o valor da conta de \n",
    "um restaurante, calcule e exiba a gorjeta do garçom, \n",
    "considerando 10% do valor da conta.\n",
    "'''\n",
    "def gorjeta(valor_conta):\n",
    "    return print('Valor gorjeta:', 0.1*valor_conta)\n",
    "\n",
    "gorjeta(170.00)\n",
    "gorjeta(2870.00)"
   ]
  },
  {
   "cell_type": "code",
   "execution_count": 24,
   "metadata": {},
   "outputs": [
    {
     "data": {
      "text/plain": [
       "287.0"
      ]
     },
     "execution_count": 24,
     "metadata": {},
     "output_type": "execute_result"
    }
   ],
   "source": [
    "0.1*170.00\n",
    "0.1*2870.00"
   ]
  },
  {
   "cell_type": "code",
   "execution_count": 32,
   "metadata": {},
   "outputs": [
    {
     "data": {
      "text/plain": [
       "True"
      ]
     },
     "execution_count": 32,
     "metadata": {},
     "output_type": "execute_result"
    }
   ],
   "source": [
    "'''\n",
    "Crie uma função que receba duas palavras e retorne True \n",
    "caso a primeira palavra seja um prefixo da segunda. \n",
    "Exemplo: ’uf’ é prefixo de ’ufabc’. ’ufabc’ \n",
    "não é prefixo de ’uf’.\n",
    "'''\n",
    "def prefixo(palavra1, palavra2):\n",
    "    if palavra1 in palavra2:\n",
    "        return True\n",
    "    else:\n",
    "        return False\n",
    "    \n",
    "prefixo('ab', 'ufabc')"
   ]
  },
  {
   "cell_type": "code",
   "execution_count": 34,
   "metadata": {},
   "outputs": [
    {
     "data": {
      "text/plain": [
       "True"
      ]
     },
     "execution_count": 34,
     "metadata": {},
     "output_type": "execute_result"
    }
   ],
   "source": [
    "def eh_prefixo(palavra1, palavra2):\n",
    "    if palavra2.startswith(palavra1):\n",
    "        return True\n",
    "    else:\n",
    "        return False\n",
    "\n",
    "eh_prefixo('uf', 'ufabc')"
   ]
  },
  {
   "cell_type": "code",
   "execution_count": 40,
   "metadata": {},
   "outputs": [
    {
     "name": "stdout",
     "output_type": "stream",
     "text": [
      "d f\n"
     ]
    },
    {
     "data": {
      "text/plain": [
       "False"
      ]
     },
     "execution_count": 40,
     "metadata": {},
     "output_type": "execute_result"
    }
   ],
   "source": [
    "def eh_prefixo(palavra1, palavra2):\n",
    "    if len(palavra1) > len(palavra2):\n",
    "        return False\n",
    "    \n",
    "    for i in range(len(palavra1)):\n",
    "        if palavra1[i] != palavra2[i]:\n",
    "            return False\n",
    "    \n",
    "    return True\n",
    "\n",
    "eh_prefixo('ud', 'ufabc')"
   ]
  },
  {
   "cell_type": "code",
   "execution_count": 38,
   "metadata": {},
   "outputs": [
    {
     "data": {
      "text/plain": [
       "True"
      ]
     },
     "execution_count": 38,
     "metadata": {},
     "output_type": "execute_result"
    }
   ],
   "source": [
    "a"
   ]
  },
  {
   "cell_type": "code",
   "execution_count": 39,
   "metadata": {},
   "outputs": [
    {
     "data": {
      "text/plain": [
       "False"
      ]
     },
     "execution_count": 39,
     "metadata": {},
     "output_type": "execute_result"
    }
   ],
   "source": [
    "b"
   ]
  },
  {
   "cell_type": "code",
   "execution_count": null,
   "metadata": {},
   "outputs": [],
   "source": []
  }
 ],
 "metadata": {
  "kernelspec": {
   "display_name": "ultimaschool",
   "language": "python",
   "name": "python3"
  },
  "language_info": {
   "codemirror_mode": {
    "name": "ipython",
    "version": 3
   },
   "file_extension": ".py",
   "mimetype": "text/x-python",
   "name": "python",
   "nbconvert_exporter": "python",
   "pygments_lexer": "ipython3",
   "version": "3.10.9"
  },
  "orig_nbformat": 4
 },
 "nbformat": 4,
 "nbformat_minor": 2
}
